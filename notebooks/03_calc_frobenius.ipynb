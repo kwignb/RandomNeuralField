{
 "cells": [
  {
   "cell_type": "code",
   "execution_count": 1,
   "metadata": {},
   "outputs": [],
   "source": [
    "import sys\n",
    "from tqdm.notebook import tqdm\n",
    "\n",
    "import numpy as np\n",
    "import matplotlib.pyplot as plt\n",
    "import seaborn as sns\n",
    "\n",
    "sns.set()\n",
    "\n",
    "from torch.utils.data import DataLoader, TensorDataset\n",
    "\n",
    "sys.path.append('..')\n",
    "from src.utils.factory import read_yaml\n",
    "from src.dataset.dataset import MakeDataset\n",
    "from src.models.networks import read_model\n",
    "from src.ntk.generate import generate_ntk\n",
    "from src.tools.relative_frob import calc_ntk_frob"
   ]
  },
  {
   "cell_type": "markdown",
   "metadata": {},
   "source": [
    "### Read Settings"
   ]
  },
  {
   "cell_type": "code",
   "execution_count": 2,
   "metadata": {},
   "outputs": [],
   "source": [
    "cfg = read_yaml(fpath='../src/config/config.yaml')\n",
    "\n",
    "# for adjust the number of train data D * 0.8 (train ratio) = ?\n",
    "cfg.DATA.DATA_NUM = 160\n",
    "\n",
    "# setting training epoch\n",
    "cfg.GENERAL.EPOCH = 2**17"
   ]
  },
  {
   "cell_type": "code",
   "execution_count": 3,
   "metadata": {},
   "outputs": [],
   "source": [
    "X_train, X_test, y_train, y_test = MakeDataset(cfg).get_tensor()\n",
    "train_loader = DataLoader(TensorDataset(X_train, y_train), batch_size=cfg.DATA.DATA_NUM)\n",
    "test_loader = DataLoader(TensorDataset(X_test, y_test), batch_size=cfg.DATA.DATA_NUM)\n",
    "\n",
    "# architecture types\n",
    "arch_types = ['gaussian', 'withmp', 'mexican', 'matern', 'vanilla']\n",
    "\n",
    "# list of width of layer (16 ~ 2048)\n",
    "mid_features_list = [2**i for i in range(4, 12)]"
   ]
  },
  {
   "cell_type": "markdown",
   "metadata": {},
   "source": [
    "### Calculate Frobenius norm"
   ]
  },
  {
   "cell_type": "code",
   "execution_count": null,
   "metadata": {},
   "outputs": [],
   "source": [
    "frob_means, frob_stds = [], []\n",
    "tr_acc_means, tr_acc_stds = [], []\n",
    "te_acc_means, te_acc_stds = [], []\n",
    "for arch in tqdm(arch_types):\n",
    "    cfg.INITIALIZER.TYPE = arch\n",
    "    frob_mean, frob_std = [], []\n",
    "    tr_acc_mean, tr_acc_std = [], []\n",
    "    te_acc_mean, te_acc_std = [], []\n",
    "    for i, mid_features in enumerate(mid_features_list):\n",
    "        # setting parameters for each model\n",
    "        if arch == 'gaussian':\n",
    "            cfg.INITIALIZER.R_SIGMA = 0.5\n",
    "            cfg.INITIALIZER.S_SIGMA = 0.01\n",
    "        elif arch == 'withmp':\n",
    "            cfg.INITIALIZER.R_SIGMA = 0.5\n",
    "            cfg.INITIALIZER.S_SIGMA = 0.01\n",
    "        elif arch == 'mexican':\n",
    "            cfg.INITIALIZER.M_SIGMA = 0.5\n",
    "            cfg.INITIALIZER.S_SIGMA = 0.01\n",
    "        elif arch == 'matern':\n",
    "            cfg.INITIALIZER.R_SIGMA = 0.5\n",
    "            cfg.INITIALIZER.S_SIGMA = 0.01\n",
    "        frobs_by_mid, tr_accs, te_accs = [], [], []\n",
    "        for i in range(5):\n",
    "            cfg.MODEL.MID_FEATURES = mid_features\n",
    "            net = read_model(cfg)\n",
    "            _, lr = generate_ntk(net, 0, X_train, X_test, cfg, calc_lr=True)\n",
    "            frob, tr_acc, te_acc = calc_ntk_frob(cfg, net, lr, train_loader, test_loader)\n",
    "            frobs_by_mid.append(frob)\n",
    "            tr_accs.append(tr_acc)\n",
    "            te_accs.append(te_acc)\n",
    "        frob_mean.append(np.mean(frobs_by_mid))\n",
    "        frob_std.append(np.std(frobs_by_mid))\n",
    "        tr_acc_mean.append(np.mean(tr_accs))\n",
    "        tr_acc_std.append(np.std(tr_accs))\n",
    "        te_acc_mean.append(np.mean(te_accs))\n",
    "        te_acc_std.append(np.std(te_accs))\n",
    "    frob_means.append(frob_mean)\n",
    "    frob_stds.append(frob_std)\n",
    "    tr_acc_means.append(tr_acc_mean)\n",
    "    tr_acc_stds.append(tr_acc_std)\n",
    "    te_acc_means.append(te_acc_mean)\n",
    "    te_acc_stds.append(te_acc_std)"
   ]
  },
  {
   "cell_type": "markdown",
   "metadata": {},
   "source": [
    "### Visualize"
   ]
  },
  {
   "cell_type": "code",
   "execution_count": 31,
   "metadata": {},
   "outputs": [],
   "source": [
    "def visualize_errorbar(means, stds, title, ylabel, frob=False):\n",
    "    \n",
    "    arch_legends = ['Model 1', 'Model 2', 'Model 3', 'Model 4', 'Model 5']\n",
    "    x_ticks = ['$2^4$', '$2^5$', '$2^6$', '$2^7$', '$2^8$', '$2^9$', '$2^{10}$', '$2^{11}$']\n",
    "    \n",
    "    plt.figure(figsize=(12, 10))\n",
    "    for i, arch in enumerate(arch_legends):\n",
    "        plt.errorbar(x_ticks, means[i], yerr=stds[i], capsize=3, label=arch)\n",
    "    plt.title(title, fontsize=30)\n",
    "    plt.xlim(xmin=0, xmax=7)\n",
    "    plt.xticks(np.arange(8), x_ticks, fontsize=25)\n",
    "    plt.xlabel('Width of layer: n', fontsize=30)\n",
    "    plt.yticks(fontsize=25)\n",
    "    if frob:\n",
    "        plt.ylabel(ylabel, fontsize=30)\n",
    "        plt.yscale('log', base=2)\n",
    "    plt.legend(fontsize=30)\n",
    "    plt.tight_layout()"
   ]
  },
  {
   "cell_type": "code",
   "execution_count": null,
   "metadata": {},
   "outputs": [],
   "source": [
    "title = 'relative change in the Frobenius norm of weights from the initialization'\n",
    "ylabel = '$||\\hat{\\Theta}_{T}^{n}-\\hat{\\Theta}_{0}^{n}||_F / ||\\hat{\\Theta}_{0}^{n}||_F$'\n",
    "visualize_errorbar(frob_means, frob_stds, title, ylabel, frob=True)"
   ]
  },
  {
   "cell_type": "code",
   "execution_count": null,
   "metadata": {},
   "outputs": [],
   "source": [
    "title = 'Train accuracy'\n",
    "ylabel = ''\n",
    "visualize_errorbar(tr_acc_means, tr_acc_stds, title, ylabel)"
   ]
  },
  {
   "cell_type": "code",
   "execution_count": null,
   "metadata": {},
   "outputs": [],
   "source": [
    "title = 'Validation accuracy'\n",
    "ylabel = ''\n",
    "visualize_errorbar(te_acc_means, te_acc_stds, title, ylabel)"
   ]
  }
 ],
 "metadata": {
  "interpreter": {
   "hash": "582dfd075cfb6c28d10ae5fa649468c72fe187ee46897d9ac12997ea846384c2"
  },
  "kernelspec": {
   "display_name": "Python 3.9.7 ('rnf')",
   "language": "python",
   "name": "python3"
  },
  "language_info": {
   "codemirror_mode": {
    "name": "ipython",
    "version": 3
   },
   "file_extension": ".py",
   "mimetype": "text/x-python",
   "name": "python",
   "nbconvert_exporter": "python",
   "pygments_lexer": "ipython3",
   "version": "3.9.7"
  },
  "orig_nbformat": 4
 },
 "nbformat": 4,
 "nbformat_minor": 2
}
