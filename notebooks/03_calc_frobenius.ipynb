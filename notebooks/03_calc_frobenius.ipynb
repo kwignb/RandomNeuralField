{
 "cells": [
  {
   "cell_type": "code",
   "execution_count": 1,
   "metadata": {},
   "outputs": [],
   "source": [
    "import sys\n",
    "from tqdm.notebook import tqdm\n",
    "\n",
    "import numpy as np\n",
    "import matplotlib.pyplot as plt\n",
    "import seaborn as sns\n",
    "\n",
    "sns.set()\n",
    "\n",
    "from torch.utils.data import DataLoader, TensorDataset\n",
    "\n",
    "sys.path.append('..')\n",
    "from src.utils.factory import read_yaml\n",
    "from src.dataset.dataset import MakeDataset\n",
    "from src.models.networks import read_model\n",
    "from src.ntk.generate import generate_ntk\n",
    "from src.tools.relative_frob import calc_ntk_frob"
   ]
  },
  {
   "cell_type": "markdown",
   "metadata": {},
   "source": [
    "### Read Settings"
   ]
  },
  {
   "cell_type": "code",
   "execution_count": 2,
   "metadata": {},
   "outputs": [],
   "source": [
    "cfg = read_yaml(fpath='../src/config/config.yaml')\n",
    "\n",
    "# for adjust the number of train data D * 0.8 (train ratio) = ?\n",
    "cfg.DATA.DATA_NUM = 160\n",
    "\n",
    "# setting training epoch\n",
    "cfg.GENERAL.EPOCH = 2**17"
   ]
  },
  {
   "cell_type": "code",
   "execution_count": 3,
   "metadata": {},
   "outputs": [],
   "source": [
    "X_train, X_test, y_train, y_test = MakeDataset(cfg).get_tensor()\n",
    "train_loader = DataLoader(TensorDataset(X_train, y_train), batch_size=cfg.DATA.DATA_NUM)\n",
    "test_loader = DataLoader(TensorDataset(X_test, y_test), batch_size=cfg.DATA.DATA_NUM)\n",
    "\n",
    "# architecture types\n",
    "arch_types = ['gaussian', 'withmp', 'mexican', 'matern', 'vanilla']\n",
    "\n",
    "# list of width of layer (16 ~ 2048)\n",
    "mid_features_list = [2**i for i in range(4, 12)]"
   ]
  },
  {
   "cell_type": "markdown",
   "metadata": {},
   "source": [
    "### Calculate Frobenius norm"
   ]
  },
  {
   "cell_type": "code",
   "execution_count": 4,
   "metadata": {},
   "outputs": [
    {
     "data": {
      "application/vnd.jupyter.widget-view+json": {
       "model_id": "994d65f6963344a39ade80e7f10b8e08",
       "version_major": 2,
       "version_minor": 0
      },
      "text/plain": [
       "  0%|          | 0/5 [00:00<?, ?it/s]"
      ]
     },
     "metadata": {},
     "output_type": "display_data"
    },
    {
     "name": "stderr",
     "output_type": "stream",
     "text": [
      "/home/kwatanabe/miniconda3/envs/rnf/RandomNeuralField/notebooks/../src/models/initializers.py:40: RuntimeWarning: overflow encountered in exp\n",
      "  np.exp(\n",
      "100%|██████████| 128/128 [00:01<00:00, 122.62it/s]\n"
     ]
    },
    {
     "ename": "LinAlgError",
     "evalue": "Eigenvalues did not converge",
     "output_type": "error",
     "traceback": [
      "\u001b[0;31m---------------------------------------------------------------------------\u001b[0m",
      "\u001b[0;31mLinAlgError\u001b[0m                               Traceback (most recent call last)",
      "\u001b[1;32m/home/kwatanabe/miniconda3/envs/rnf/RandomNeuralField/notebooks/03_calc_frobenius.ipynb Cell 6'\u001b[0m in \u001b[0;36m<cell line: 4>\u001b[0;34m()\u001b[0m\n\u001b[1;32m     <a href='vscode-notebook-cell://ssh-remote%2Bkanpachi/home/kwatanabe/miniconda3/envs/rnf/RandomNeuralField/notebooks/03_calc_frobenius.ipynb#ch0000009vscode-remote?line=24'>25</a>\u001b[0m cfg\u001b[39m.\u001b[39mMODEL\u001b[39m.\u001b[39mMID_FEATURES \u001b[39m=\u001b[39m mid_features\n\u001b[1;32m     <a href='vscode-notebook-cell://ssh-remote%2Bkanpachi/home/kwatanabe/miniconda3/envs/rnf/RandomNeuralField/notebooks/03_calc_frobenius.ipynb#ch0000009vscode-remote?line=25'>26</a>\u001b[0m net \u001b[39m=\u001b[39m read_model(cfg)\n\u001b[0;32m---> <a href='vscode-notebook-cell://ssh-remote%2Bkanpachi/home/kwatanabe/miniconda3/envs/rnf/RandomNeuralField/notebooks/03_calc_frobenius.ipynb#ch0000009vscode-remote?line=26'>27</a>\u001b[0m _, lr \u001b[39m=\u001b[39m generate_ntk(net, \u001b[39m0\u001b[39;49m, X_train, X_test, cfg, calc_lr\u001b[39m=\u001b[39;49m\u001b[39mTrue\u001b[39;49;00m)\n\u001b[1;32m     <a href='vscode-notebook-cell://ssh-remote%2Bkanpachi/home/kwatanabe/miniconda3/envs/rnf/RandomNeuralField/notebooks/03_calc_frobenius.ipynb#ch0000009vscode-remote?line=27'>28</a>\u001b[0m frob, tr_acc, te_acc \u001b[39m=\u001b[39m calc_ntk_frob(cfg, net, lr, train_loader, test_loader)\n\u001b[1;32m     <a href='vscode-notebook-cell://ssh-remote%2Bkanpachi/home/kwatanabe/miniconda3/envs/rnf/RandomNeuralField/notebooks/03_calc_frobenius.ipynb#ch0000009vscode-remote?line=28'>29</a>\u001b[0m frobs_by_mid\u001b[39m.\u001b[39mappend(frob)\n",
      "File \u001b[0;32m~/miniconda3/envs/rnf/RandomNeuralField/notebooks/../src/ntk/generate.py:43\u001b[0m, in \u001b[0;36mgenerate_ntk\u001b[0;34m(net, label, train, test, cfg, calc_lr)\u001b[0m\n\u001b[1;32m     <a href='file:///home/kwatanabe/miniconda3/envs/rnf/RandomNeuralField/notebooks/../src/ntk/generate.py?line=40'>41</a>\u001b[0m \u001b[39mif\u001b[39;00m calc_lr:\n\u001b[1;32m     <a href='file:///home/kwatanabe/miniconda3/envs/rnf/RandomNeuralField/notebooks/../src/ntk/generate.py?line=41'>42</a>\u001b[0m     NTK_train \u001b[39m=\u001b[39m np\u001b[39m.\u001b[39mkron(K_train, np\u001b[39m.\u001b[39meye(cfg\u001b[39m.\u001b[39mDATA\u001b[39m.\u001b[39mCLASS))\n\u001b[0;32m---> <a href='file:///home/kwatanabe/miniconda3/envs/rnf/RandomNeuralField/notebooks/../src/ntk/generate.py?line=42'>43</a>\u001b[0m     vals \u001b[39m=\u001b[39m np\u001b[39m.\u001b[39;49mlinalg\u001b[39m.\u001b[39;49meigvalsh(NTK_train)\n\u001b[1;32m     <a href='file:///home/kwatanabe/miniconda3/envs/rnf/RandomNeuralField/notebooks/../src/ntk/generate.py?line=43'>44</a>\u001b[0m     lr \u001b[39m=\u001b[39m \u001b[39m2\u001b[39m \u001b[39m/\u001b[39m (\u001b[39mmax\u001b[39m(vals) \u001b[39m+\u001b[39m \u001b[39m1e-12\u001b[39m)\n\u001b[1;32m     <a href='file:///home/kwatanabe/miniconda3/envs/rnf/RandomNeuralField/notebooks/../src/ntk/generate.py?line=44'>45</a>\u001b[0m     \u001b[39mreturn\u001b[39;00m NTK_train, lr\n",
      "File \u001b[0;32m<__array_function__ internals>:5\u001b[0m, in \u001b[0;36meigvalsh\u001b[0;34m(*args, **kwargs)\u001b[0m\n",
      "File \u001b[0;32m~/miniconda3/envs/rnf/lib/python3.9/site-packages/numpy/linalg/linalg.py:1175\u001b[0m, in \u001b[0;36meigvalsh\u001b[0;34m(a, UPLO)\u001b[0m\n\u001b[1;32m   <a href='file:///home/kwatanabe/miniconda3/envs/rnf/lib/python3.9/site-packages/numpy/linalg/linalg.py?line=1172'>1173</a>\u001b[0m t, result_t \u001b[39m=\u001b[39m _commonType(a)\n\u001b[1;32m   <a href='file:///home/kwatanabe/miniconda3/envs/rnf/lib/python3.9/site-packages/numpy/linalg/linalg.py?line=1173'>1174</a>\u001b[0m signature \u001b[39m=\u001b[39m \u001b[39m'\u001b[39m\u001b[39mD->d\u001b[39m\u001b[39m'\u001b[39m \u001b[39mif\u001b[39;00m isComplexType(t) \u001b[39melse\u001b[39;00m \u001b[39m'\u001b[39m\u001b[39md->d\u001b[39m\u001b[39m'\u001b[39m\n\u001b[0;32m-> <a href='file:///home/kwatanabe/miniconda3/envs/rnf/lib/python3.9/site-packages/numpy/linalg/linalg.py?line=1174'>1175</a>\u001b[0m w \u001b[39m=\u001b[39m gufunc(a, signature\u001b[39m=\u001b[39;49msignature, extobj\u001b[39m=\u001b[39;49mextobj)\n\u001b[1;32m   <a href='file:///home/kwatanabe/miniconda3/envs/rnf/lib/python3.9/site-packages/numpy/linalg/linalg.py?line=1175'>1176</a>\u001b[0m \u001b[39mreturn\u001b[39;00m w\u001b[39m.\u001b[39mastype(_realType(result_t), copy\u001b[39m=\u001b[39m\u001b[39mFalse\u001b[39;00m)\n",
      "File \u001b[0;32m~/miniconda3/envs/rnf/lib/python3.9/site-packages/numpy/linalg/linalg.py:94\u001b[0m, in \u001b[0;36m_raise_linalgerror_eigenvalues_nonconvergence\u001b[0;34m(err, flag)\u001b[0m\n\u001b[1;32m     <a href='file:///home/kwatanabe/miniconda3/envs/rnf/lib/python3.9/site-packages/numpy/linalg/linalg.py?line=92'>93</a>\u001b[0m \u001b[39mdef\u001b[39;00m \u001b[39m_raise_linalgerror_eigenvalues_nonconvergence\u001b[39m(err, flag):\n\u001b[0;32m---> <a href='file:///home/kwatanabe/miniconda3/envs/rnf/lib/python3.9/site-packages/numpy/linalg/linalg.py?line=93'>94</a>\u001b[0m     \u001b[39mraise\u001b[39;00m LinAlgError(\u001b[39m\"\u001b[39m\u001b[39mEigenvalues did not converge\u001b[39m\u001b[39m\"\u001b[39m)\n",
      "\u001b[0;31mLinAlgError\u001b[0m: Eigenvalues did not converge"
     ]
    }
   ],
   "source": [
    "frob_means, frob_stds = [], []\n",
    "tr_acc_means, tr_acc_stds = [], []\n",
    "te_acc_means, te_acc_stds = [], []\n",
    "for arch in tqdm(arch_types):\n",
    "    cfg.INITIALIZER.TYPE = arch\n",
    "    frob_mean, frob_std = [], []\n",
    "    tr_acc_mean, tr_acc_std = [], []\n",
    "    te_acc_mean, te_acc_std = [], []\n",
    "    for i, mid_features in enumerate(mid_features_list):\n",
    "        # setting parameters for each model\n",
    "        if arch == 'gaussian':\n",
    "            cfg.INITIALIZER.R_SIGMA = 0.5 #/ 2**(len(mid_features_list) - i - 1)\n",
    "            cfg.INITIALIZER.S_SIGMA = 0.01\n",
    "        elif arch == 'withmp':\n",
    "            cfg.INITIALIZER.R_SIGMA = 0.5 #/ 2**(len(mid_features_list) - i - 1)\n",
    "            cfg.INITIALIZER.S_SIGMA = 0.01\n",
    "        elif arch == 'mexican':\n",
    "            cfg.INITIALIZER.M_SIGMA = 0.5 #/ 2**(len(mid_features_list) - i - 1)\n",
    "            cfg.INITIALIZER.S_SIGMA = 0.01\n",
    "        elif arch == 'matern':\n",
    "            cfg.INITIALIZER.R_SIGMA = 0.5 #/ 2**(len(mid_features_list) - i - 1)\n",
    "            cfg.INITIALIZER.S_SIGMA = 0.01\n",
    "        frobs_by_mid, tr_accs, te_accs = [], [], []\n",
    "        for i in range(5):\n",
    "            cfg.MODEL.MID_FEATURES = mid_features\n",
    "            net = read_model(cfg)\n",
    "            _, lr = generate_ntk(net, 0, X_train, X_test, cfg, calc_lr=True)\n",
    "            frob, tr_acc, te_acc = calc_ntk_frob(cfg, net, lr, train_loader, test_loader)\n",
    "            frobs_by_mid.append(frob)\n",
    "            tr_accs.append(tr_acc)\n",
    "            te_accs.append(te_acc)\n",
    "        frob_mean.append(np.mean(frobs_by_mid))\n",
    "        frob_std.append(np.std(frobs_by_mid))\n",
    "        tr_acc_mean.append(np.mean(tr_accs))\n",
    "        tr_acc_std.append(np.std(tr_accs))\n",
    "        te_acc_mean.append(np.mean(te_accs))\n",
    "        te_acc_std.append(np.std(te_accs))\n",
    "    frob_means.append(frob_mean)\n",
    "    frob_stds.append(frob_std)\n",
    "    tr_acc_means.append(tr_acc_mean)\n",
    "    tr_acc_stds.append(tr_acc_std)\n",
    "    te_acc_means.append(te_acc_mean)\n",
    "    te_acc_stds.append(te_acc_std)"
   ]
  },
  {
   "cell_type": "markdown",
   "metadata": {},
   "source": [
    "### Visualize"
   ]
  },
  {
   "cell_type": "code",
   "execution_count": 31,
   "metadata": {},
   "outputs": [],
   "source": [
    "def visualize_errorbar(means, stds, title, ylabel, frob=False):\n",
    "    \n",
    "    arch_legends = ['Model 1', 'Model 2', 'Model 3', 'Model 4', 'Model 5']\n",
    "    x_ticks = ['$2^4$', '$2^5$', '$2^6$', '$2^7$', '$2^8$', '$2^9$', '$2^{10}$', '$2^{11}$']\n",
    "    \n",
    "    plt.figure(figsize=(12, 10))\n",
    "    for i, arch in enumerate(arch_legends):\n",
    "        plt.errorbar(x_ticks, means[i], yerr=stds[i], capsize=3, label=arch)\n",
    "    plt.title(title, fontsize=30)\n",
    "    plt.xlim(xmin=0, xmax=7)\n",
    "    plt.xticks(np.arange(8), x_ticks, fontsize=25)\n",
    "    plt.xlabel('Width of layer: n', fontsize=30)\n",
    "    plt.yticks(fontsize=25)\n",
    "    if frob:\n",
    "        plt.ylabel(ylabel, fontsize=30)\n",
    "        plt.yscale('log', base=2)\n",
    "    plt.legend(fontsize=30)\n",
    "    plt.tight_layout()"
   ]
  },
  {
   "cell_type": "code",
   "execution_count": null,
   "metadata": {},
   "outputs": [],
   "source": [
    "title = 'relative change in the Frobenius norm of weights from the initialization'\n",
    "ylabel = '$||\\hat{\\Theta}_{T}^{n}-\\hat{\\Theta}_{0}^{n}||_F / ||\\hat{\\Theta}_{0}^{n}||_F$'\n",
    "visualize_errorbar(frob_means, frob_stds, title, ylabel, frob=True)"
   ]
  },
  {
   "cell_type": "code",
   "execution_count": null,
   "metadata": {},
   "outputs": [],
   "source": [
    "title = 'Train accuracy'\n",
    "ylabel = ''\n",
    "visualize_errorbar(tr_acc_means, tr_acc_stds, title, ylabel)"
   ]
  },
  {
   "cell_type": "code",
   "execution_count": null,
   "metadata": {},
   "outputs": [],
   "source": [
    "title = 'Validation accuracy'\n",
    "ylabel = ''\n",
    "visualize_errorbar(te_acc_means, te_acc_stds, title, ylabel)"
   ]
  }
 ],
 "metadata": {
  "interpreter": {
   "hash": "582dfd075cfb6c28d10ae5fa649468c72fe187ee46897d9ac12997ea846384c2"
  },
  "kernelspec": {
   "display_name": "Python 3.9.7 ('rnf')",
   "language": "python",
   "name": "python3"
  },
  "language_info": {
   "codemirror_mode": {
    "name": "ipython",
    "version": 3
   },
   "file_extension": ".py",
   "mimetype": "text/x-python",
   "name": "python",
   "nbconvert_exporter": "python",
   "pygments_lexer": "ipython3",
   "version": "3.9.7"
  },
  "orig_nbformat": 4
 },
 "nbformat": 4,
 "nbformat_minor": 2
}
